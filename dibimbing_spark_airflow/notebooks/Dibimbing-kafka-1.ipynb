{
 "cells": [
  {
   "cell_type": "code",
   "execution_count": 12,
   "id": "25846da4-c6b2-46a5-b7d1-9809732bb1b9",
   "metadata": {
    "tags": []
   },
   "outputs": [],
   "source": [
    "import json\n",
    "import uuid\n",
    "import os\n",
    "import json\n",
    "from dotenv import load_dotenv\n",
    "from pathlib import Path\n",
    "from kafka import KafkaProducer\n",
    "from faker import Faker\n",
    "from time import sleep"
   ]
  },
  {
   "cell_type": "code",
   "execution_count": 13,
   "id": "42f97822-c06f-47e0-a0a4-87a7bf1d95a9",
   "metadata": {
    "tags": []
   },
   "outputs": [
    {
     "data": {
      "text/plain": [
       "True"
      ]
     },
     "execution_count": 13,
     "metadata": {},
     "output_type": "execute_result"
    }
   ],
   "source": [
    "dotenv_path = Path('/resources/.env')\n",
    "load_dotenv(dotenv_path=dotenv_path)"
   ]
  },
  {
   "cell_type": "code",
   "execution_count": 15,
   "id": "3f89f5a9-8c75-4a38-b48d-ad72c6a13c41",
   "metadata": {
    "tags": []
   },
   "outputs": [],
   "source": [
    "kafka_host = os.getenv('KAFKA_HOST')\n",
    "kafka_topic = os.getenv('KAFKA_TOPIC_NAME')\n",
    "kafka_topic_partition = os.getenv('KAFKA_TOPIC_NAME')+\"-1\"\n",
    "# kafka_topic_partition = \"dibimbing_batch_6\""
   ]
  },
  {
   "cell_type": "code",
   "execution_count": 16,
   "id": "a4a59d22-69c5-4e0a-b1e2-d0d77867c45b",
   "metadata": {
    "tags": []
   },
   "outputs": [
    {
     "name": "stdout",
     "output_type": "stream",
     "text": [
      "dataeng-kafka\n"
     ]
    }
   ],
   "source": [
    "print(kafka_host)"
   ]
  },
  {
   "cell_type": "code",
   "execution_count": 17,
   "id": "8515096d-3bc6-4905-98f5-eb1e6d7bfa4c",
   "metadata": {
    "tags": []
   },
   "outputs": [],
   "source": [
    "producer = KafkaProducer(bootstrap_servers=f'{kafka_host}:9092')"
   ]
  },
  {
   "cell_type": "code",
   "execution_count": 18,
   "id": "78075b5c-08c8-4c43-99a1-0689a87414c4",
   "metadata": {
    "tags": []
   },
   "outputs": [],
   "source": [
    "_instance = Faker()\n",
    "global faker\n",
    "faker = Faker()"
   ]
  },
  {
   "cell_type": "code",
   "execution_count": 21,
   "id": "503ade79-0f77-4970-8e04-ecefce397398",
   "metadata": {
    "tags": []
   },
   "outputs": [
    {
     "name": "stdout",
     "output_type": "stream",
     "text": [
      "647ef5d0-a534-46ba-acb2-a381e70f04f5 RecordMetadata(topic='test-topic-1', partition=0, topic_partition=TopicPartition(topic='test-topic-1', partition=0), offset=135, timestamp=1724572869216, log_start_offset=0, checksum=None, serialized_key_size=-1, serialized_value_size=181, serialized_header_size=-1)\n",
      "71f2f7e8-876f-4f87-a9fc-77be1c8491a6 RecordMetadata(topic='test-topic-1', partition=0, topic_partition=TopicPartition(topic='test-topic-1', partition=0), offset=136, timestamp=1724572874231, log_start_offset=0, checksum=None, serialized_key_size=-1, serialized_value_size=182, serialized_header_size=-1)\n",
      "895d67fa-831c-4085-a5c6-f53ff6182ba2 RecordMetadata(topic='test-topic-1', partition=0, topic_partition=TopicPartition(topic='test-topic-1', partition=0), offset=137, timestamp=1724572879240, log_start_offset=0, checksum=None, serialized_key_size=-1, serialized_value_size=185, serialized_header_size=-1)\n",
      "f084d31c-a87e-4474-969e-de749d04857d RecordMetadata(topic='test-topic-1', partition=0, topic_partition=TopicPartition(topic='test-topic-1', partition=0), offset=138, timestamp=1724572884252, log_start_offset=0, checksum=None, serialized_key_size=-1, serialized_value_size=177, serialized_header_size=-1)\n",
      "6c2513d6-6177-495a-831a-6bdf53a434c2 RecordMetadata(topic='test-topic-1', partition=0, topic_partition=TopicPartition(topic='test-topic-1', partition=0), offset=139, timestamp=1724572889266, log_start_offset=0, checksum=None, serialized_key_size=-1, serialized_value_size=193, serialized_header_size=-1)\n",
      "d513c014-ade1-4d8b-85e5-6b01953f55b1 RecordMetadata(topic='test-topic-1', partition=0, topic_partition=TopicPartition(topic='test-topic-1', partition=0), offset=140, timestamp=1724572894277, log_start_offset=0, checksum=None, serialized_key_size=-1, serialized_value_size=187, serialized_header_size=-1)\n",
      "24790007-68f6-4036-8bd6-c2c5c77bdb71 RecordMetadata(topic='test-topic-1', partition=0, topic_partition=TopicPartition(topic='test-topic-1', partition=0), offset=141, timestamp=1724572899286, log_start_offset=0, checksum=None, serialized_key_size=-1, serialized_value_size=189, serialized_header_size=-1)\n",
      "ac53595a-d527-4b84-8d0a-ccb211182224 RecordMetadata(topic='test-topic-1', partition=0, topic_partition=TopicPartition(topic='test-topic-1', partition=0), offset=142, timestamp=1724572904298, log_start_offset=0, checksum=None, serialized_key_size=-1, serialized_value_size=177, serialized_header_size=-1)\n",
      "2a821768-a668-4a54-844a-8ae58e1a3596 RecordMetadata(topic='test-topic-1', partition=0, topic_partition=TopicPartition(topic='test-topic-1', partition=0), offset=143, timestamp=1724572909310, log_start_offset=0, checksum=None, serialized_key_size=-1, serialized_value_size=187, serialized_header_size=-1)\n",
      "f5772e57-a217-4c9d-b7d7-aaa19ad61e4a RecordMetadata(topic='test-topic-1', partition=0, topic_partition=TopicPartition(topic='test-topic-1', partition=0), offset=144, timestamp=1724572914325, log_start_offset=0, checksum=None, serialized_key_size=-1, serialized_value_size=186, serialized_header_size=-1)\n",
      "6921a625-92fc-452e-b52a-5ea85d008c54 RecordMetadata(topic='test-topic-1', partition=0, topic_partition=TopicPartition(topic='test-topic-1', partition=0), offset=145, timestamp=1724572919334, log_start_offset=0, checksum=None, serialized_key_size=-1, serialized_value_size=188, serialized_header_size=-1)\n",
      "dbec05f2-ba01-44ff-a2d8-adb8a2758162 RecordMetadata(topic='test-topic-1', partition=0, topic_partition=TopicPartition(topic='test-topic-1', partition=0), offset=146, timestamp=1724572924349, log_start_offset=0, checksum=None, serialized_key_size=-1, serialized_value_size=183, serialized_header_size=-1)\n",
      "ecfda075-cecf-487e-ab34-c728c8bdd0dc RecordMetadata(topic='test-topic-1', partition=0, topic_partition=TopicPartition(topic='test-topic-1', partition=0), offset=147, timestamp=1724572929359, log_start_offset=0, checksum=None, serialized_key_size=-1, serialized_value_size=180, serialized_header_size=-1)\n",
      "5a84fc66-96b7-44c4-b442-7aae1636527b RecordMetadata(topic='test-topic-1', partition=0, topic_partition=TopicPartition(topic='test-topic-1', partition=0), offset=148, timestamp=1724572934363, log_start_offset=0, checksum=None, serialized_key_size=-1, serialized_value_size=183, serialized_header_size=-1)\n",
      "dc537b56-6065-431f-8b13-6a0822be90e7 RecordMetadata(topic='test-topic-1', partition=0, topic_partition=TopicPartition(topic='test-topic-1', partition=0), offset=149, timestamp=1724572939369, log_start_offset=0, checksum=None, serialized_key_size=-1, serialized_value_size=189, serialized_header_size=-1)\n",
      "9f833e97-f113-4bf6-adce-e712b193c792 RecordMetadata(topic='test-topic-1', partition=0, topic_partition=TopicPartition(topic='test-topic-1', partition=0), offset=150, timestamp=1724572944381, log_start_offset=0, checksum=None, serialized_key_size=-1, serialized_value_size=189, serialized_header_size=-1)\n",
      "1803b17f-9a8f-4b41-b5ff-c212b25d7bce RecordMetadata(topic='test-topic-1', partition=0, topic_partition=TopicPartition(topic='test-topic-1', partition=0), offset=151, timestamp=1724572949391, log_start_offset=0, checksum=None, serialized_key_size=-1, serialized_value_size=181, serialized_header_size=-1)\n",
      "e69401ed-3fcc-4619-b3d8-c43e64f46599 RecordMetadata(topic='test-topic-1', partition=0, topic_partition=TopicPartition(topic='test-topic-1', partition=0), offset=152, timestamp=1724572954401, log_start_offset=0, checksum=None, serialized_key_size=-1, serialized_value_size=180, serialized_header_size=-1)\n",
      "c318a90c-21f4-4318-85f2-71c653708c08 RecordMetadata(topic='test-topic-1', partition=0, topic_partition=TopicPartition(topic='test-topic-1', partition=0), offset=153, timestamp=1724572959414, log_start_offset=0, checksum=None, serialized_key_size=-1, serialized_value_size=180, serialized_header_size=-1)\n",
      "89154157-19fa-427b-818d-5efc0808733e RecordMetadata(topic='test-topic-1', partition=0, topic_partition=TopicPartition(topic='test-topic-1', partition=0), offset=154, timestamp=1724572964419, log_start_offset=0, checksum=None, serialized_key_size=-1, serialized_value_size=183, serialized_header_size=-1)\n",
      "753a2df3-a8a1-4817-9b55-aef88b1bb20b RecordMetadata(topic='test-topic-1', partition=0, topic_partition=TopicPartition(topic='test-topic-1', partition=0), offset=155, timestamp=1724572969432, log_start_offset=0, checksum=None, serialized_key_size=-1, serialized_value_size=182, serialized_header_size=-1)\n",
      "f1476a19-5dc2-4151-a3d2-f30a38389778 RecordMetadata(topic='test-topic-1', partition=0, topic_partition=TopicPartition(topic='test-topic-1', partition=0), offset=156, timestamp=1724572974444, log_start_offset=0, checksum=None, serialized_key_size=-1, serialized_value_size=180, serialized_header_size=-1)\n",
      "808fcbdd-af54-466b-9a92-b4ea9aab5c83 RecordMetadata(topic='test-topic-1', partition=0, topic_partition=TopicPartition(topic='test-topic-1', partition=0), offset=157, timestamp=1724572979455, log_start_offset=0, checksum=None, serialized_key_size=-1, serialized_value_size=191, serialized_header_size=-1)\n",
      "d1ce711c-34d3-45f8-92a0-bb00335b5710 RecordMetadata(topic='test-topic-1', partition=0, topic_partition=TopicPartition(topic='test-topic-1', partition=0), offset=158, timestamp=1724572984466, log_start_offset=0, checksum=None, serialized_key_size=-1, serialized_value_size=178, serialized_header_size=-1)\n",
      "787c9113-9e17-451c-bc5f-a824a79ddfdd RecordMetadata(topic='test-topic-1', partition=0, topic_partition=TopicPartition(topic='test-topic-1', partition=0), offset=159, timestamp=1724572989476, log_start_offset=0, checksum=None, serialized_key_size=-1, serialized_value_size=190, serialized_header_size=-1)\n",
      "4b19e65e-3cc5-4380-93dd-f7504e8e3fef RecordMetadata(topic='test-topic-1', partition=0, topic_partition=TopicPartition(topic='test-topic-1', partition=0), offset=160, timestamp=1724572994482, log_start_offset=0, checksum=None, serialized_key_size=-1, serialized_value_size=182, serialized_header_size=-1)\n",
      "61ed301e-8500-4ab1-b265-cfb6c8e2451c RecordMetadata(topic='test-topic-1', partition=0, topic_partition=TopicPartition(topic='test-topic-1', partition=0), offset=161, timestamp=1724572999492, log_start_offset=0, checksum=None, serialized_key_size=-1, serialized_value_size=184, serialized_header_size=-1)\n",
      "0476a845-48bc-4640-a684-83157a18c549 RecordMetadata(topic='test-topic-1', partition=0, topic_partition=TopicPartition(topic='test-topic-1', partition=0), offset=162, timestamp=1724573004506, log_start_offset=0, checksum=None, serialized_key_size=-1, serialized_value_size=177, serialized_header_size=-1)\n",
      "6fd5b78c-7e0b-4257-9f58-a5d1b48b74a3 RecordMetadata(topic='test-topic-1', partition=0, topic_partition=TopicPartition(topic='test-topic-1', partition=0), offset=163, timestamp=1724573009512, log_start_offset=0, checksum=None, serialized_key_size=-1, serialized_value_size=187, serialized_header_size=-1)\n",
      "9208a5cf-9670-4201-b261-c3295904c92a RecordMetadata(topic='test-topic-1', partition=0, topic_partition=TopicPartition(topic='test-topic-1', partition=0), offset=164, timestamp=1724573014523, log_start_offset=0, checksum=None, serialized_key_size=-1, serialized_value_size=182, serialized_header_size=-1)\n",
      "ca775ece-8e55-424b-bc2d-52e2c9e7bf0e RecordMetadata(topic='test-topic-1', partition=0, topic_partition=TopicPartition(topic='test-topic-1', partition=0), offset=165, timestamp=1724573019535, log_start_offset=0, checksum=None, serialized_key_size=-1, serialized_value_size=192, serialized_header_size=-1)\n",
      "68c35988-0125-4256-b175-79c72bea8a24 RecordMetadata(topic='test-topic-1', partition=0, topic_partition=TopicPartition(topic='test-topic-1', partition=0), offset=166, timestamp=1724573024544, log_start_offset=0, checksum=None, serialized_key_size=-1, serialized_value_size=181, serialized_header_size=-1)\n",
      "8fb8cab9-7d5a-43cd-82ce-117f1173cf25 RecordMetadata(topic='test-topic-1', partition=0, topic_partition=TopicPartition(topic='test-topic-1', partition=0), offset=167, timestamp=1724573029553, log_start_offset=0, checksum=None, serialized_key_size=-1, serialized_value_size=182, serialized_header_size=-1)\n",
      "02beddd6-bf7f-4ccc-89bc-5f0288847e90 RecordMetadata(topic='test-topic-1', partition=0, topic_partition=TopicPartition(topic='test-topic-1', partition=0), offset=168, timestamp=1724573034564, log_start_offset=0, checksum=None, serialized_key_size=-1, serialized_value_size=186, serialized_header_size=-1)\n",
      "5ff2c1fa-259c-49ce-adc7-265691cd676f RecordMetadata(topic='test-topic-1', partition=0, topic_partition=TopicPartition(topic='test-topic-1', partition=0), offset=169, timestamp=1724573039578, log_start_offset=0, checksum=None, serialized_key_size=-1, serialized_value_size=183, serialized_header_size=-1)\n",
      "72807a2f-8935-43b8-9948-cefa103f2431 RecordMetadata(topic='test-topic-1', partition=0, topic_partition=TopicPartition(topic='test-topic-1', partition=0), offset=170, timestamp=1724573044585, log_start_offset=0, checksum=None, serialized_key_size=-1, serialized_value_size=186, serialized_header_size=-1)\n",
      "43ff3e53-e92d-4c68-95d5-1194d8310363 RecordMetadata(topic='test-topic-1', partition=0, topic_partition=TopicPartition(topic='test-topic-1', partition=0), offset=171, timestamp=1724573049601, log_start_offset=0, checksum=None, serialized_key_size=-1, serialized_value_size=180, serialized_header_size=-1)\n",
      "639a8f2e-715c-42f1-b8ee-a752ba5af050 RecordMetadata(topic='test-topic-1', partition=0, topic_partition=TopicPartition(topic='test-topic-1', partition=0), offset=172, timestamp=1724573054608, log_start_offset=0, checksum=None, serialized_key_size=-1, serialized_value_size=181, serialized_header_size=-1)\n",
      "bbef54b1-d032-4f2f-91ec-e185f571415f RecordMetadata(topic='test-topic-1', partition=0, topic_partition=TopicPartition(topic='test-topic-1', partition=0), offset=173, timestamp=1724573059614, log_start_offset=0, checksum=None, serialized_key_size=-1, serialized_value_size=188, serialized_header_size=-1)\n",
      "63d60caf-9674-442a-bd2e-955e5a524f8b RecordMetadata(topic='test-topic-1', partition=0, topic_partition=TopicPartition(topic='test-topic-1', partition=0), offset=174, timestamp=1724573064624, log_start_offset=0, checksum=None, serialized_key_size=-1, serialized_value_size=176, serialized_header_size=-1)\n",
      "f2aeefcf-d2d9-4df1-91a5-cc77ced8d37e RecordMetadata(topic='test-topic-1', partition=0, topic_partition=TopicPartition(topic='test-topic-1', partition=0), offset=175, timestamp=1724573069635, log_start_offset=0, checksum=None, serialized_key_size=-1, serialized_value_size=185, serialized_header_size=-1)\n",
      "f74b6afa-3dd2-441c-a872-54684efd685a RecordMetadata(topic='test-topic-1', partition=0, topic_partition=TopicPartition(topic='test-topic-1', partition=0), offset=176, timestamp=1724573074643, log_start_offset=0, checksum=None, serialized_key_size=-1, serialized_value_size=186, serialized_header_size=-1)\n",
      "fceaeffa-c1af-4b56-8712-f3b5e7a8341a RecordMetadata(topic='test-topic-1', partition=0, topic_partition=TopicPartition(topic='test-topic-1', partition=0), offset=177, timestamp=1724573079649, log_start_offset=0, checksum=None, serialized_key_size=-1, serialized_value_size=188, serialized_header_size=-1)\n",
      "acd7be19-56fa-42a6-8b57-1ca66f4c2fe5 RecordMetadata(topic='test-topic-1', partition=0, topic_partition=TopicPartition(topic='test-topic-1', partition=0), offset=178, timestamp=1724573084653, log_start_offset=0, checksum=None, serialized_key_size=-1, serialized_value_size=183, serialized_header_size=-1)\n",
      "7c2fd5a1-f8e2-4774-bc4e-e777ce206e0c RecordMetadata(topic='test-topic-1', partition=0, topic_partition=TopicPartition(topic='test-topic-1', partition=0), offset=179, timestamp=1724573089664, log_start_offset=0, checksum=None, serialized_key_size=-1, serialized_value_size=181, serialized_header_size=-1)\n",
      "0a381e08-4387-469b-a79c-9672322cb67f RecordMetadata(topic='test-topic-1', partition=0, topic_partition=TopicPartition(topic='test-topic-1', partition=0), offset=180, timestamp=1724573094673, log_start_offset=0, checksum=None, serialized_key_size=-1, serialized_value_size=188, serialized_header_size=-1)\n",
      "d4bea585-545b-4831-b5da-1b7abe49f730 RecordMetadata(topic='test-topic-1', partition=0, topic_partition=TopicPartition(topic='test-topic-1', partition=0), offset=181, timestamp=1724573099683, log_start_offset=0, checksum=None, serialized_key_size=-1, serialized_value_size=181, serialized_header_size=-1)\n",
      "5dd3eb76-df79-4751-b950-6326790affe2 RecordMetadata(topic='test-topic-1', partition=0, topic_partition=TopicPartition(topic='test-topic-1', partition=0), offset=182, timestamp=1724573104698, log_start_offset=0, checksum=None, serialized_key_size=-1, serialized_value_size=178, serialized_header_size=-1)\n",
      "e0a01184-8031-47df-a713-9e5fe1e7181b RecordMetadata(topic='test-topic-1', partition=0, topic_partition=TopicPartition(topic='test-topic-1', partition=0), offset=183, timestamp=1724573109704, log_start_offset=0, checksum=None, serialized_key_size=-1, serialized_value_size=178, serialized_header_size=-1)\n",
      "a814d366-943c-4089-aa2c-9c417dac4aa6 RecordMetadata(topic='test-topic-1', partition=0, topic_partition=TopicPartition(topic='test-topic-1', partition=0), offset=184, timestamp=1724573114715, log_start_offset=0, checksum=None, serialized_key_size=-1, serialized_value_size=182, serialized_header_size=-1)\n",
      "dc43fb6a-ff7e-4921-820c-d1bcde9ea05a RecordMetadata(topic='test-topic-1', partition=0, topic_partition=TopicPartition(topic='test-topic-1', partition=0), offset=185, timestamp=1724573119724, log_start_offset=0, checksum=None, serialized_key_size=-1, serialized_value_size=184, serialized_header_size=-1)\n",
      "ae5fc32e-66d0-4462-86cd-979fc6812e62 RecordMetadata(topic='test-topic-1', partition=0, topic_partition=TopicPartition(topic='test-topic-1', partition=0), offset=186, timestamp=1724573124737, log_start_offset=0, checksum=None, serialized_key_size=-1, serialized_value_size=188, serialized_header_size=-1)\n",
      "29f6110b-fc5b-4982-84ba-4486c43d9f8e RecordMetadata(topic='test-topic-1', partition=0, topic_partition=TopicPartition(topic='test-topic-1', partition=0), offset=187, timestamp=1724573129750, log_start_offset=0, checksum=None, serialized_key_size=-1, serialized_value_size=194, serialized_header_size=-1)\n",
      "929071f1-7dd1-4341-a5eb-7679036f61f8 RecordMetadata(topic='test-topic-1', partition=0, topic_partition=TopicPartition(topic='test-topic-1', partition=0), offset=188, timestamp=1724573134760, log_start_offset=0, checksum=None, serialized_key_size=-1, serialized_value_size=184, serialized_header_size=-1)\n",
      "48046de2-22dd-43d3-bf8d-d5db9d186225 RecordMetadata(topic='test-topic-1', partition=0, topic_partition=TopicPartition(topic='test-topic-1', partition=0), offset=189, timestamp=1724573139769, log_start_offset=0, checksum=None, serialized_key_size=-1, serialized_value_size=181, serialized_header_size=-1)\n",
      "622bf396-3dba-4b95-8a6c-53a71d60109e RecordMetadata(topic='test-topic-1', partition=0, topic_partition=TopicPartition(topic='test-topic-1', partition=0), offset=190, timestamp=1724573144780, log_start_offset=0, checksum=None, serialized_key_size=-1, serialized_value_size=189, serialized_header_size=-1)\n",
      "3b1c7701-a8d4-4de3-8153-7c53b3d27921 RecordMetadata(topic='test-topic-1', partition=0, topic_partition=TopicPartition(topic='test-topic-1', partition=0), offset=191, timestamp=1724573149790, log_start_offset=0, checksum=None, serialized_key_size=-1, serialized_value_size=182, serialized_header_size=-1)\n",
      "c8fee932-54d4-480e-a674-eaeb6496ef83 RecordMetadata(topic='test-topic-1', partition=0, topic_partition=TopicPartition(topic='test-topic-1', partition=0), offset=192, timestamp=1724573154802, log_start_offset=0, checksum=None, serialized_key_size=-1, serialized_value_size=184, serialized_header_size=-1)\n",
      "ec3a5c2e-810e-49fc-bee4-e550c311bf13 RecordMetadata(topic='test-topic-1', partition=0, topic_partition=TopicPartition(topic='test-topic-1', partition=0), offset=193, timestamp=1724573159813, log_start_offset=0, checksum=None, serialized_key_size=-1, serialized_value_size=182, serialized_header_size=-1)\n",
      "5731c23a-9ee0-44a9-b535-01462f14e2d1 RecordMetadata(topic='test-topic-1', partition=0, topic_partition=TopicPartition(topic='test-topic-1', partition=0), offset=194, timestamp=1724573164825, log_start_offset=0, checksum=None, serialized_key_size=-1, serialized_value_size=193, serialized_header_size=-1)\n",
      "835176fd-8211-418e-8079-41fb91ee9934 RecordMetadata(topic='test-topic-1', partition=0, topic_partition=TopicPartition(topic='test-topic-1', partition=0), offset=195, timestamp=1724573169837, log_start_offset=0, checksum=None, serialized_key_size=-1, serialized_value_size=183, serialized_header_size=-1)\n",
      "62d533c5-b04d-4be7-8489-4dabbbcb5f4e RecordMetadata(topic='test-topic-1', partition=0, topic_partition=TopicPartition(topic='test-topic-1', partition=0), offset=196, timestamp=1724573174845, log_start_offset=0, checksum=None, serialized_key_size=-1, serialized_value_size=183, serialized_header_size=-1)\n",
      "8f6b7833-9315-4f89-88a7-41dd9dca82c1 RecordMetadata(topic='test-topic-1', partition=0, topic_partition=TopicPartition(topic='test-topic-1', partition=0), offset=197, timestamp=1724573179855, log_start_offset=0, checksum=None, serialized_key_size=-1, serialized_value_size=181, serialized_header_size=-1)\n",
      "221fa3ac-6327-4523-a15a-fba3c05d9e21 RecordMetadata(topic='test-topic-1', partition=0, topic_partition=TopicPartition(topic='test-topic-1', partition=0), offset=198, timestamp=1724573184866, log_start_offset=0, checksum=None, serialized_key_size=-1, serialized_value_size=175, serialized_header_size=-1)\n",
      "ac4fcb98-b3e6-4aec-a0ca-24cff1c7b103 RecordMetadata(topic='test-topic-1', partition=0, topic_partition=TopicPartition(topic='test-topic-1', partition=0), offset=199, timestamp=1724573189871, log_start_offset=0, checksum=None, serialized_key_size=-1, serialized_value_size=183, serialized_header_size=-1)\n",
      "900be742-2316-408c-af70-c643e2399f15 RecordMetadata(topic='test-topic-1', partition=0, topic_partition=TopicPartition(topic='test-topic-1', partition=0), offset=200, timestamp=1724573194880, log_start_offset=0, checksum=None, serialized_key_size=-1, serialized_value_size=180, serialized_header_size=-1)\n",
      "b59cc812-8085-49e4-8e01-f00a9ff1455d RecordMetadata(topic='test-topic-1', partition=0, topic_partition=TopicPartition(topic='test-topic-1', partition=0), offset=201, timestamp=1724573199889, log_start_offset=0, checksum=None, serialized_key_size=-1, serialized_value_size=184, serialized_header_size=-1)\n",
      "a120e2e8-803d-4b45-a245-31b110ef02fc RecordMetadata(topic='test-topic-1', partition=0, topic_partition=TopicPartition(topic='test-topic-1', partition=0), offset=202, timestamp=1724573204901, log_start_offset=0, checksum=None, serialized_key_size=-1, serialized_value_size=181, serialized_header_size=-1)\n",
      "ebae0633-1e29-4048-8ca1-dda38f38d243 RecordMetadata(topic='test-topic-1', partition=0, topic_partition=TopicPartition(topic='test-topic-1', partition=0), offset=203, timestamp=1724573209911, log_start_offset=0, checksum=None, serialized_key_size=-1, serialized_value_size=186, serialized_header_size=-1)\n",
      "49caaa8a-97f9-46f8-a5ea-be780065a096 RecordMetadata(topic='test-topic-1', partition=0, topic_partition=TopicPartition(topic='test-topic-1', partition=0), offset=204, timestamp=1724573214928, log_start_offset=0, checksum=None, serialized_key_size=-1, serialized_value_size=191, serialized_header_size=-1)\n",
      "68b75a7a-50b9-42a6-9eca-1f295454b319 RecordMetadata(topic='test-topic-1', partition=0, topic_partition=TopicPartition(topic='test-topic-1', partition=0), offset=205, timestamp=1724573219937, log_start_offset=0, checksum=None, serialized_key_size=-1, serialized_value_size=182, serialized_header_size=-1)\n",
      "27ec3030-fe52-4ce7-8495-e0febf9d2491 RecordMetadata(topic='test-topic-1', partition=0, topic_partition=TopicPartition(topic='test-topic-1', partition=0), offset=206, timestamp=1724573224950, log_start_offset=0, checksum=None, serialized_key_size=-1, serialized_value_size=185, serialized_header_size=-1)\n",
      "ddd8b6ce-8710-45f1-97ce-94032861c5f2 RecordMetadata(topic='test-topic-1', partition=0, topic_partition=TopicPartition(topic='test-topic-1', partition=0), offset=207, timestamp=1724573229961, log_start_offset=0, checksum=None, serialized_key_size=-1, serialized_value_size=180, serialized_header_size=-1)\n",
      "61aa4afa-0b8e-4f98-ac46-0133a54267e6 RecordMetadata(topic='test-topic-1', partition=0, topic_partition=TopicPartition(topic='test-topic-1', partition=0), offset=208, timestamp=1724573234969, log_start_offset=0, checksum=None, serialized_key_size=-1, serialized_value_size=180, serialized_header_size=-1)\n",
      "e3c6c3dd-f5c1-42bf-98d6-b16960365a67 RecordMetadata(topic='test-topic-1', partition=0, topic_partition=TopicPartition(topic='test-topic-1', partition=0), offset=209, timestamp=1724573239977, log_start_offset=0, checksum=None, serialized_key_size=-1, serialized_value_size=185, serialized_header_size=-1)\n",
      "8cd0817f-5f3b-40c8-ac14-77602e9f348b RecordMetadata(topic='test-topic-1', partition=0, topic_partition=TopicPartition(topic='test-topic-1', partition=0), offset=210, timestamp=1724573244985, log_start_offset=0, checksum=None, serialized_key_size=-1, serialized_value_size=187, serialized_header_size=-1)\n",
      "5a63c768-2fcc-45a4-a558-febcd1719e1e RecordMetadata(topic='test-topic-1', partition=0, topic_partition=TopicPartition(topic='test-topic-1', partition=0), offset=211, timestamp=1724573249999, log_start_offset=0, checksum=None, serialized_key_size=-1, serialized_value_size=180, serialized_header_size=-1)\n",
      "a1e698c7-45e5-4dfd-9da3-03357b451efc RecordMetadata(topic='test-topic-1', partition=0, topic_partition=TopicPartition(topic='test-topic-1', partition=0), offset=212, timestamp=1724573255008, log_start_offset=0, checksum=None, serialized_key_size=-1, serialized_value_size=188, serialized_header_size=-1)\n",
      "93a1ab3c-af51-4b3b-a1ec-c33531002f06 RecordMetadata(topic='test-topic-1', partition=0, topic_partition=TopicPartition(topic='test-topic-1', partition=0), offset=213, timestamp=1724573260020, log_start_offset=0, checksum=None, serialized_key_size=-1, serialized_value_size=186, serialized_header_size=-1)\n",
      "6b616210-4803-4e13-9dbe-8e2fe70c9ece RecordMetadata(topic='test-topic-1', partition=0, topic_partition=TopicPartition(topic='test-topic-1', partition=0), offset=214, timestamp=1724573265027, log_start_offset=0, checksum=None, serialized_key_size=-1, serialized_value_size=183, serialized_header_size=-1)\n",
      "1f3bf058-91ad-42f5-819e-803ef6b34972 RecordMetadata(topic='test-topic-1', partition=0, topic_partition=TopicPartition(topic='test-topic-1', partition=0), offset=215, timestamp=1724573270040, log_start_offset=0, checksum=None, serialized_key_size=-1, serialized_value_size=185, serialized_header_size=-1)\n",
      "7b4a7cb2-be55-43a1-910d-56c7d768a5d8 RecordMetadata(topic='test-topic-1', partition=0, topic_partition=TopicPartition(topic='test-topic-1', partition=0), offset=216, timestamp=1724573275053, log_start_offset=0, checksum=None, serialized_key_size=-1, serialized_value_size=187, serialized_header_size=-1)\n",
      "ece31e11-998d-454b-ba6b-5b283f2c7176 RecordMetadata(topic='test-topic-1', partition=0, topic_partition=TopicPartition(topic='test-topic-1', partition=0), offset=217, timestamp=1724573280065, log_start_offset=0, checksum=None, serialized_key_size=-1, serialized_value_size=186, serialized_header_size=-1)\n",
      "a35270f2-f5f9-43e6-9e23-94d397aa5b93 RecordMetadata(topic='test-topic-1', partition=0, topic_partition=TopicPartition(topic='test-topic-1', partition=0), offset=218, timestamp=1724573285076, log_start_offset=0, checksum=None, serialized_key_size=-1, serialized_value_size=186, serialized_header_size=-1)\n",
      "1fc13c4e-f413-4fc5-964a-c78394e69e46 RecordMetadata(topic='test-topic-1', partition=0, topic_partition=TopicPartition(topic='test-topic-1', partition=0), offset=219, timestamp=1724573290086, log_start_offset=0, checksum=None, serialized_key_size=-1, serialized_value_size=187, serialized_header_size=-1)\n",
      "9d37db65-7696-4a26-856e-0c9dfc87e1cc RecordMetadata(topic='test-topic-1', partition=0, topic_partition=TopicPartition(topic='test-topic-1', partition=0), offset=220, timestamp=1724573295097, log_start_offset=0, checksum=None, serialized_key_size=-1, serialized_value_size=187, serialized_header_size=-1)\n",
      "e0573426-1876-4aea-8fbb-1021f57ce214 RecordMetadata(topic='test-topic-1', partition=0, topic_partition=TopicPartition(topic='test-topic-1', partition=0), offset=221, timestamp=1724573300103, log_start_offset=0, checksum=None, serialized_key_size=-1, serialized_value_size=181, serialized_header_size=-1)\n",
      "31ab0c67-f895-4b70-a8cd-1b2b7639a28a RecordMetadata(topic='test-topic-1', partition=0, topic_partition=TopicPartition(topic='test-topic-1', partition=0), offset=222, timestamp=1724573305114, log_start_offset=0, checksum=None, serialized_key_size=-1, serialized_value_size=182, serialized_header_size=-1)\n",
      "f53ab1a4-536b-4afb-a1a1-82dec217c7d0 RecordMetadata(topic='test-topic-1', partition=0, topic_partition=TopicPartition(topic='test-topic-1', partition=0), offset=223, timestamp=1724573310125, log_start_offset=0, checksum=None, serialized_key_size=-1, serialized_value_size=181, serialized_header_size=-1)\n",
      "492dfdcd-e4bf-4b62-b4b0-9d759471a2c2 RecordMetadata(topic='test-topic-1', partition=0, topic_partition=TopicPartition(topic='test-topic-1', partition=0), offset=224, timestamp=1724573315136, log_start_offset=0, checksum=None, serialized_key_size=-1, serialized_value_size=176, serialized_header_size=-1)\n",
      "eaefa9e4-a9a5-4c81-9879-416eaa2228b0 RecordMetadata(topic='test-topic-1', partition=0, topic_partition=TopicPartition(topic='test-topic-1', partition=0), offset=225, timestamp=1724573320145, log_start_offset=0, checksum=None, serialized_key_size=-1, serialized_value_size=188, serialized_header_size=-1)\n",
      "6d082d7e-2f64-474f-93e9-6c4c52b58d83 RecordMetadata(topic='test-topic-1', partition=0, topic_partition=TopicPartition(topic='test-topic-1', partition=0), offset=226, timestamp=1724573325151, log_start_offset=0, checksum=None, serialized_key_size=-1, serialized_value_size=181, serialized_header_size=-1)\n",
      "12a24f6d-b318-4d88-86a4-7f2b502fc3fe RecordMetadata(topic='test-topic-1', partition=0, topic_partition=TopicPartition(topic='test-topic-1', partition=0), offset=227, timestamp=1724573330162, log_start_offset=0, checksum=None, serialized_key_size=-1, serialized_value_size=183, serialized_header_size=-1)\n",
      "aa0b2dcb-0642-4a61-9d44-24c6c8d81f16 RecordMetadata(topic='test-topic-1', partition=0, topic_partition=TopicPartition(topic='test-topic-1', partition=0), offset=228, timestamp=1724573335170, log_start_offset=0, checksum=None, serialized_key_size=-1, serialized_value_size=179, serialized_header_size=-1)\n",
      "ff76f9b4-ee0c-484e-b1d6-f2fb29e95c57 RecordMetadata(topic='test-topic-1', partition=0, topic_partition=TopicPartition(topic='test-topic-1', partition=0), offset=229, timestamp=1724573340180, log_start_offset=0, checksum=None, serialized_key_size=-1, serialized_value_size=181, serialized_header_size=-1)\n",
      "dd2ce301-2042-4eb5-bf43-94a2f3db6195 RecordMetadata(topic='test-topic-1', partition=0, topic_partition=TopicPartition(topic='test-topic-1', partition=0), offset=230, timestamp=1724573345193, log_start_offset=0, checksum=None, serialized_key_size=-1, serialized_value_size=187, serialized_header_size=-1)\n",
      "8af38124-76c6-4b0f-bf02-5379c54f212a RecordMetadata(topic='test-topic-1', partition=0, topic_partition=TopicPartition(topic='test-topic-1', partition=0), offset=231, timestamp=1724573350197, log_start_offset=0, checksum=None, serialized_key_size=-1, serialized_value_size=186, serialized_header_size=-1)\n",
      "b0978580-edce-452d-848e-e4ca2017523b RecordMetadata(topic='test-topic-1', partition=0, topic_partition=TopicPartition(topic='test-topic-1', partition=0), offset=232, timestamp=1724573355208, log_start_offset=0, checksum=None, serialized_key_size=-1, serialized_value_size=192, serialized_header_size=-1)\n",
      "a9d8cbcf-5c7e-4f42-be60-edeaede35494 RecordMetadata(topic='test-topic-1', partition=0, topic_partition=TopicPartition(topic='test-topic-1', partition=0), offset=233, timestamp=1724573360219, log_start_offset=0, checksum=None, serialized_key_size=-1, serialized_value_size=191, serialized_header_size=-1)\n"
     ]
    },
    {
     "ename": "KeyboardInterrupt",
     "evalue": "",
     "output_type": "error",
     "traceback": [
      "\u001b[0;31m---------------------------------------------------------------------------\u001b[0m",
      "\u001b[0;31mKeyboardInterrupt\u001b[0m                         Traceback (most recent call last)",
      "Cell \u001b[0;32mIn[21], line 26\u001b[0m\n\u001b[1;32m     24\u001b[0m \u001b[38;5;28mprint\u001b[39m(json_data[\u001b[38;5;124m'\u001b[39m\u001b[38;5;124memp_id\u001b[39m\u001b[38;5;124m'\u001b[39m],response\u001b[38;5;241m.\u001b[39mget())\n\u001b[1;32m     25\u001b[0m \u001b[38;5;66;03m# print(_payload)\u001b[39;00m\n\u001b[0;32m---> 26\u001b[0m \u001b[43msleep\u001b[49m\u001b[43m(\u001b[49m\u001b[38;5;241;43m5\u001b[39;49m\u001b[43m)\u001b[49m\n",
      "\u001b[0;31mKeyboardInterrupt\u001b[0m: "
     ]
    }
   ],
   "source": [
    "class DataGenerator(object):\n",
    "    @staticmethod\n",
    "    def get_data():\n",
    "        return [\n",
    "                uuid.uuid4().__str__(),\n",
    "                faker.name(),\n",
    "                faker.random_element(elements=('IT', 'HR', 'Sales', 'Marketing')),\n",
    "                faker.random_element(elements=('CA', 'NY', 'TX', 'FL', 'IL', 'RJ')),\n",
    "                faker.random_int(min=10000, max=150000),\n",
    "                faker.random_int(min=18, max=60),\n",
    "                faker.random_int(min=0, max=100000),\n",
    "                faker.unix_time()\n",
    "        ]\n",
    "\n",
    "for i in range(1,400):\n",
    "    columns =  [\"emp_id\", \"employee_name\", \"department\", \"state\", \"salary\", \"age\", \"bonus\", \"ts\", \"new\"]\n",
    "    data_list = DataGenerator.get_data()\n",
    "    json_data = dict(\n",
    "        zip(columns,data_list)\n",
    "    )\n",
    "    _payload = json.dumps(json_data).encode(\"utf-8\")\n",
    "    response = producer.send(topic=kafka_topic_partition, value=_payload)\n",
    "    # response = producer.send(topic=kafka_topic_partition, value=_payload, partition=2)\n",
    "    print(json_data['emp_id'],response.get())\n",
    "    # print(_payload)\n",
    "    sleep(5)"
   ]
  },
  {
   "cell_type": "code",
   "execution_count": 1,
   "id": "be1f121f-6f90-441c-a027-c095f5903ac9",
   "metadata": {
    "tags": []
   },
   "outputs": [],
   "source": [
    "## Tugas\n",
    "\n",
    "# Kriteria:\n",
    "- Faker sendiri\n",
    "- Produce ke multi partition topic\n",
    "- Consume dengan python\n",
    "- Rolling aggregation\n",
    "    - Running SUM\n",
    "    - Running AVG\n",
    "    - Running ...\n",
    "\n",
    "Submission ke link GitHub Repo"
   ]
  },
  {
   "cell_type": "code",
   "execution_count": null,
   "id": "c1069803-1c19-497c-a50b-7aa2012ed345",
   "metadata": {},
   "outputs": [],
   "source": []
  }
 ],
 "metadata": {
  "kernelspec": {
   "display_name": "Python 3 (ipykernel)",
   "language": "python",
   "name": "python3"
  },
  "language_info": {
   "codemirror_mode": {
    "name": "ipython",
    "version": 3
   },
   "file_extension": ".py",
   "mimetype": "text/x-python",
   "name": "python",
   "nbconvert_exporter": "python",
   "pygments_lexer": "ipython3",
   "version": "3.10.10"
  }
 },
 "nbformat": 4,
 "nbformat_minor": 5
}
